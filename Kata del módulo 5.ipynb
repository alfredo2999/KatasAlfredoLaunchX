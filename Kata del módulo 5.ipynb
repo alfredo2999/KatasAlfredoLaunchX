{
 "cells": [
  {
   "cell_type": "markdown",
   "metadata": {},
   "source": [
    "Ejercicio 1"
   ]
  },
  {
   "cell_type": "code",
   "execution_count": 1,
   "metadata": {},
   "outputs": [],
   "source": [
    "first_planet = 149597870\n",
    "second_planet = 778547200"
   ]
  },
  {
   "cell_type": "code",
   "execution_count": 4,
   "metadata": {},
   "outputs": [
    {
     "name": "stdout",
     "output_type": "stream",
     "text": [
      "628949330\n",
      "390577533.93\n"
     ]
    }
   ],
   "source": [
    "distancia_km = second_planet - first_planet\n",
    "print(distancia_km)\n",
    "\n",
    "distancia_milla = distancia_km * 0.621\n",
    "print(distancia_milla)"
   ]
  },
  {
   "cell_type": "markdown",
   "metadata": {},
   "source": [
    "Ejercicio 2"
   ]
  },
  {
   "cell_type": "code",
   "execution_count": 6,
   "metadata": {},
   "outputs": [],
   "source": [
    "first_planet = input('introduzca la distancia del sol para el primer planeta en KM')\n",
    "second_planet = input('introduzca la distancia desde el sol para el segundo planeta en KM')\n",
    "\n",
    "first_planet = int(first_planet)\n",
    "second_planet = int(second_planet)\n",
    "\n",
    "distancia_km = second_planet - first_planet\n",
    "print(distancia_km)\n",
    "\n",
    "# Convertir de KM a Millas\n",
    "distance_mi = distancia_km * 0.621\n",
    "print(abs(distancia_milla))"
   ]
  }
 ],
 "metadata": {
  "interpreter": {
   "hash": "86dcf9811c0b9ed67dba6fa920409c542189865d46eb9e37c57fe5a7f2b133f7"
  },
  "kernelspec": {
   "display_name": "Python 3.10.2 64-bit",
   "language": "python",
   "name": "python3"
  },
  "language_info": {
   "codemirror_mode": {
    "name": "ipython",
    "version": 3
   },
   "file_extension": ".py",
   "mimetype": "text/x-python",
   "name": "python",
   "nbconvert_exporter": "python",
   "pygments_lexer": "ipython3",
   "version": "3.10.2"
  },
  "orig_nbformat": 4
 },
 "nbformat": 4,
 "nbformat_minor": 2
}
